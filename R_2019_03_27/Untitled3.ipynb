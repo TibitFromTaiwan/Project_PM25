{
 "cells": [
  {
   "cell_type": "code",
   "execution_count": 114,
   "metadata": {
    "scrolled": false
   },
   "outputs": [
    {
     "name": "stdout",
     "output_type": "stream",
     "text": [
      "Average of spring: 32.26291512915129\n",
      "Average of summer: 11.978250809810273\n",
      "Average of autumn: 28.78578110383536\n",
      "Average of winter: 44.83941947565543\n"
     ]
    }
   ],
   "source": [
    "import pandas as pd\n",
    "import numpy as np\n",
    "\n",
    "def get_average(arr):\n",
    "    return sum(arr) / len(arr)\n",
    "\n",
    "df = pd.read_excel('./106年楠梓站_20180309.xls')\n",
    "\n",
    "#取得行列總值\n",
    "row, column = df.shape\n",
    "\n",
    "#為每個季節建立一個陣列\n",
    "springArr = []  \n",
    "summerArr = []\n",
    "autumnArr = []\n",
    "winterArr = []\n",
    "\n",
    "# 迭代每一row\n",
    "for n in range(row):\n",
    "    \n",
    "    # 如果是PM2.5的測量值則使用\n",
    "    if df.loc[n]['測項'] == 'PM2.5':\n",
    "        \n",
    "        # 取得此行的時間\n",
    "        month = df.loc[n]['日期'].split('/')[1]\n",
    "        \n",
    "        # 判斷季節\n",
    "        if month == '12' or month == '01' or month == '02':\n",
    "            \n",
    "            # 迭代每一項\n",
    "            for item in df.loc[n]:\n",
    "                \n",
    "                # 判斷是否為可用數據，將數據加入上方的季節陣列中\n",
    "                if type(item) != str and (not np.isnan(item)):\n",
    "                    winterArr.append(item)\n",
    "        elif month == '03' or month == '04' or month == '05':\n",
    "            for item in df.loc[n]:\n",
    "                if type(item) != str and (not np.isnan(item)):\n",
    "                    springArr.append(item)\n",
    "        elif month == '06' or month == '07' or month == '08':\n",
    "            for item in df.loc[n]:\n",
    "                if type(item) != str and (not np.isnan(item)):\n",
    "                    summerArr.append(item)\n",
    "        elif month == '09' or month == '10' or month == '11':\n",
    "            for item in df.loc[n]:\n",
    "                if type(item) != str and (not np.isnan(item)):\n",
    "                    autumnArr.append(item)\n",
    "\n",
    "print('Average of spring:', get_average(springArr))\n",
    "print('Average of summer:', get_average(summerArr))\n",
    "print('Average of autumn:', get_average(autumnArr))\n",
    "print('Average of winter:', get_average(winterArr))"
   ]
  },
  {
   "cell_type": "code",
   "execution_count": null,
   "metadata": {
    "scrolled": true
   },
   "outputs": [],
   "source": []
  },
  {
   "cell_type": "code",
   "execution_count": null,
   "metadata": {},
   "outputs": [],
   "source": []
  }
 ],
 "metadata": {
  "kernelspec": {
   "display_name": "Python 3",
   "language": "python",
   "name": "python3"
  },
  "language_info": {
   "codemirror_mode": {
    "name": "ipython",
    "version": 3
   },
   "file_extension": ".py",
   "mimetype": "text/x-python",
   "name": "python",
   "nbconvert_exporter": "python",
   "pygments_lexer": "ipython3",
   "version": "3.7.2"
  }
 },
 "nbformat": 4,
 "nbformat_minor": 2
}
